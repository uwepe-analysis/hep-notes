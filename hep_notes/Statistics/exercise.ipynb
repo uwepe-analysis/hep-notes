{
 "cells": [
  {
   "cell_type": "code",
   "execution_count": null,
   "metadata": {},
   "outputs": [],
   "source": [
    "import numpy as np\n",
    "from scipy.stats import poisson\n",
    "from scipy.stats import expon\n",
    "import matplotlib.pyplot as plt\n",
    "from IPython.display import Image, display\n",
    "import seaborn as sns\n",
    "\n",
    "# Apply the default theme\n",
    "sns.set_theme()"
   ]
  },
  {
   "cell_type": "markdown",
   "metadata": {},
   "source": [
    "# Exercise"
   ]
  },
  {
   "cell_type": "markdown",
   "metadata": {},
   "source": [
    "\n",
    "## Exercise 1 - Frequentist Upper Limit on a Poisson Parameter\n",
    "\n",
    "Consider the scenario where the observed count **n** follows a Poisson distribution:\n",
    "\n",
    "$$\n",
    "n \\sim \\text{Poisson}(s + b)\n",
    "$$\n",
    "\n",
    "Given that the background expectation is b = 4.5 and the observed count is $n_{\\text{obs}} = 5$ , determine the 95% confidence level (CL) upper limit on s.\n",
    "\n",
    "```{hint}\n",
    "How does the distribution of n change as you vary s?\n",
    "```"
   ]
  },
  {
   "cell_type": "markdown",
   "metadata": {},
   "source": [
    "## Exercise 2 - Maximum Likelihood Estimator for a Gaussian Distribution\n",
    "\n",
    "Suppose individual measurements $x_i$ are distributed around an unknown true value $\\theta$ according to a Gaussian distribution with a known standard deviation $\\sigma_i$. The probability density function (PDF) is given by:\n",
    "\n",
    "```{math}\n",
    ":label: norm_distribution\n",
    "f (x_i;\\theta, \\sigma_i) = \\frac{1}{\\sqrt{2\\pi}\\sigma_i} e^{-\\frac{(x_i - \\theta)^2}{2\\sigma_i^2}}\n",
    "```\n",
    "\n",
    "The corresponding log-likelihood function is:\n",
    "```{math}\n",
    ":label: norm_log_likelihood\n",
    "\\ln L(\\theta) = -\\frac{1}{2} \\sum_{i=1}^{N} \\frac{(x_i - \\theta)^2}{\\sigma_i^2} + \\text{constant}.\n",
    "```\n",
    "This function describes a parabola, which reaches its maximum at some value $\\hat{\\theta}$. \n",
    "Derive the expressions for the maximum likelihood estimator $\\hat{\\theta}$, and its uncertainty $\\sigma_{\\hat{\\theta}}$. "
   ]
  },
  {
   "cell_type": "markdown",
   "metadata": {},
   "source": [
    "## Exercise 3 - Parameter Estimation for Exponential Decay\n",
    "\n",
    "The probability density function (PDF) for observing a decay at time $t$ is given by:\n",
    "\n",
    "```{math}\n",
    ":label: expon_distribution\n",
    "f (t;\\tau) = \\frac{1}{\\tau} e^{-\\frac{t}{\\tau}}\n",
    "\n",
    "```\n",
    "The goal is to estimate the parameter $\\tau$, which represents the lifetime of the decay.\n",
    "Three different datasets, each containing a different number of events, are provided. Using the maximum likelihood estimation (MLE) method, calculate $\\hat{\\tau}$ and $\\sigma_{\\hat{\\tau}}$ for each dataset and compare the results with those obtained using the Gaussian estimator.\n",
    "\n",
    "```{note}\n",
    "For any probability density function $f(x;\\theta)$, as the number of observed events increases, the likelihood function $L$ asymptotically approaches a multivariate Gaussian distribution.\n",
    "```"
   ]
  },
  {
   "cell_type": "code",
   "execution_count": null,
   "metadata": {},
   "outputs": [],
   "source": [
    "# set the random seed\n",
    "np.random.seed(0)\n",
    "\n",
    "Ns = [2, 8, 20]\n",
    "true_tau = 1 \n",
    "# generate the data\n",
    "toys_expon = [expon.rvs(size=N, scale=true_tau) for N in Ns]\n",
    "\n"
   ]
  },
  {
   "cell_type": "markdown",
   "metadata": {},
   "source": []
  }
 ],
 "metadata": {
  "kernelspec": {
   "display_name": "jupyter-book",
   "language": "python",
   "name": "python3"
  },
  "language_info": {
   "codemirror_mode": {
    "name": "ipython",
    "version": 3
   },
   "file_extension": ".py",
   "mimetype": "text/x-python",
   "name": "python",
   "nbconvert_exporter": "python",
   "pygments_lexer": "ipython3",
   "version": "3.12.9"
  }
 },
 "nbformat": 4,
 "nbformat_minor": 2
}
